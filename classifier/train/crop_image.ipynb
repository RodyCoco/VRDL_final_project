{
 "cells": [
  {
   "cell_type": "code",
   "execution_count": null,
   "metadata": {},
   "outputs": [],
   "source": [
    "import os\n",
    "from sklearn.model_selection import train_test_split\n",
    "import cv2\n",
    "import json\n",
    "import numpy as np\n",
    "import random"
   ]
  },
  {
   "cell_type": "code",
   "execution_count": null,
   "metadata": {},
   "outputs": [],
   "source": [
    "file_name = ['ALB','BET','DOL','LAG','NoF','OTHER','SHARK','YFT']"
   ]
  },
  {
   "cell_type": "markdown",
   "metadata": {},
   "source": [
    "crop image\n"
   ]
  },
  {
   "cell_type": "code",
   "execution_count": null,
   "metadata": {},
   "outputs": [],
   "source": [
    "for file in file_name:\n",
    "    all = os.listdir(file)\n",
    "    num = 0\n",
    "    for image_name in all:\n",
    "        if file == 'NoF':\n",
    "            pass\n",
    "        else:\n",
    "            js = 'Annotations/'+image_name[:len(image_name)-4]+'.json'\n",
    "            if not os.path.exists(js):\n",
    "                continue\n",
    "            with open(js, newline='') as jsonfile:\n",
    "                data = json.load(jsonfile)\n",
    "                # 或者這樣\n",
    "                # data = json.loads(jsonfile.read())\n",
    "            img = cv2.imread(file + '/' + image_name)\n",
    "            for i in range(len(data[image_name])):\n",
    "                x = data[image_name][i]['rect']['x']\n",
    "                y = data[image_name][i]['rect']['y']\n",
    "                w = data[image_name][i]['rect']['w']\n",
    "                h = data[image_name][i]['rect']['h']\n",
    "                hh, ww, cc = img.shape\n",
    "                crop_img = img[int(y):int(y+h), int(x):int(x+w)]\n",
    "                cv2.imwrite('crop/' + file + '/' + str(num) + '.jpg', crop_img)\n",
    "                num += 1\n"
   ]
  }
 ],
 "metadata": {
  "interpreter": {
   "hash": "f23faf4bfe871c203c8bec80520af5927fc7cb1ae3bd834ddf554ee587ad1c05"
  },
  "kernelspec": {
   "display_name": "Python 3.8.6 64-bit",
   "language": "python",
   "name": "python3"
  },
  "language_info": {
   "codemirror_mode": {
    "name": "ipython",
    "version": 3
   },
   "file_extension": ".py",
   "mimetype": "text/x-python",
   "name": "python",
   "nbconvert_exporter": "python",
   "pygments_lexer": "ipython3",
   "version": "3.8.6"
  },
  "orig_nbformat": 4
 },
 "nbformat": 4,
 "nbformat_minor": 2
}
